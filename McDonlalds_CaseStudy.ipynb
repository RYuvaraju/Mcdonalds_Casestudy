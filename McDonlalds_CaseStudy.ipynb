{
 "cells": [
  {
   "cell_type": "markdown",
   "metadata": {
    "id": "N_YuNKgydvR5"
   },
   "source": [
    "# Import Statements"
   ]
  },
  {
   "cell_type": "code",
   "execution_count": 52,
   "metadata": {
    "id": "sMFmS2Z1aAOI"
   },
   "outputs": [],
   "source": [
    "import pandas as pd\n",
    "import numpy as np\n",
    "import seaborn as sns\n",
    "import matplotlib.pyplot as plt\n",
    "from sklearn.preprocessing import LabelEncoder\n",
    "from sklearn.decomposition import PCA\n",
    "from sklearn.cluster import KMeans\n",
    "from collections import Counter"
   ]
  },
  {
   "cell_type": "code",
   "execution_count": 53,
   "metadata": {},
   "outputs": [],
   "source": [
    "import warnings\n",
    "warnings.simplefilter(action='ignore',category=FutureWarning)"
   ]
  },
  {
   "cell_type": "code",
   "execution_count": 54,
   "metadata": {
    "id": "6LDC8Rrteia4"
   },
   "outputs": [],
   "source": [
    "data = pd.read_csv(\"mcdonalds.csv\")"
   ]
  },
  {
   "cell_type": "code",
   "execution_count": 55,
   "metadata": {
    "colab": {
     "base_uri": "https://localhost:8080/",
     "height": 0
    },
    "id": "LosnAFQDfDx4",
    "outputId": "59546a4a-0857-410d-d63d-24878e0fe39c"
   },
   "outputs": [
    {
     "data": {
      "text/html": [
       "<div>\n",
       "<style scoped>\n",
       "    .dataframe tbody tr th:only-of-type {\n",
       "        vertical-align: middle;\n",
       "    }\n",
       "\n",
       "    .dataframe tbody tr th {\n",
       "        vertical-align: top;\n",
       "    }\n",
       "\n",
       "    .dataframe thead th {\n",
       "        text-align: right;\n",
       "    }\n",
       "</style>\n",
       "<table border=\"1\" class=\"dataframe\">\n",
       "  <thead>\n",
       "    <tr style=\"text-align: right;\">\n",
       "      <th></th>\n",
       "      <th>yummy</th>\n",
       "      <th>convenient</th>\n",
       "      <th>spicy</th>\n",
       "      <th>fattening</th>\n",
       "      <th>greasy</th>\n",
       "      <th>fast</th>\n",
       "      <th>cheap</th>\n",
       "      <th>tasty</th>\n",
       "      <th>expensive</th>\n",
       "      <th>healthy</th>\n",
       "      <th>disgusting</th>\n",
       "      <th>Like</th>\n",
       "      <th>Age</th>\n",
       "      <th>VisitFrequency</th>\n",
       "      <th>Gender</th>\n",
       "    </tr>\n",
       "  </thead>\n",
       "  <tbody>\n",
       "    <tr>\n",
       "      <th>0</th>\n",
       "      <td>No</td>\n",
       "      <td>Yes</td>\n",
       "      <td>No</td>\n",
       "      <td>Yes</td>\n",
       "      <td>No</td>\n",
       "      <td>Yes</td>\n",
       "      <td>Yes</td>\n",
       "      <td>No</td>\n",
       "      <td>Yes</td>\n",
       "      <td>No</td>\n",
       "      <td>No</td>\n",
       "      <td>-3</td>\n",
       "      <td>61</td>\n",
       "      <td>Every three months</td>\n",
       "      <td>Female</td>\n",
       "    </tr>\n",
       "    <tr>\n",
       "      <th>1</th>\n",
       "      <td>Yes</td>\n",
       "      <td>Yes</td>\n",
       "      <td>No</td>\n",
       "      <td>Yes</td>\n",
       "      <td>Yes</td>\n",
       "      <td>Yes</td>\n",
       "      <td>Yes</td>\n",
       "      <td>Yes</td>\n",
       "      <td>Yes</td>\n",
       "      <td>No</td>\n",
       "      <td>No</td>\n",
       "      <td>+2</td>\n",
       "      <td>51</td>\n",
       "      <td>Every three months</td>\n",
       "      <td>Female</td>\n",
       "    </tr>\n",
       "    <tr>\n",
       "      <th>2</th>\n",
       "      <td>No</td>\n",
       "      <td>Yes</td>\n",
       "      <td>Yes</td>\n",
       "      <td>Yes</td>\n",
       "      <td>Yes</td>\n",
       "      <td>Yes</td>\n",
       "      <td>No</td>\n",
       "      <td>Yes</td>\n",
       "      <td>Yes</td>\n",
       "      <td>Yes</td>\n",
       "      <td>No</td>\n",
       "      <td>+1</td>\n",
       "      <td>62</td>\n",
       "      <td>Every three months</td>\n",
       "      <td>Female</td>\n",
       "    </tr>\n",
       "    <tr>\n",
       "      <th>3</th>\n",
       "      <td>Yes</td>\n",
       "      <td>Yes</td>\n",
       "      <td>No</td>\n",
       "      <td>Yes</td>\n",
       "      <td>Yes</td>\n",
       "      <td>Yes</td>\n",
       "      <td>Yes</td>\n",
       "      <td>Yes</td>\n",
       "      <td>No</td>\n",
       "      <td>No</td>\n",
       "      <td>Yes</td>\n",
       "      <td>+4</td>\n",
       "      <td>69</td>\n",
       "      <td>Once a week</td>\n",
       "      <td>Female</td>\n",
       "    </tr>\n",
       "    <tr>\n",
       "      <th>4</th>\n",
       "      <td>No</td>\n",
       "      <td>Yes</td>\n",
       "      <td>No</td>\n",
       "      <td>Yes</td>\n",
       "      <td>Yes</td>\n",
       "      <td>Yes</td>\n",
       "      <td>Yes</td>\n",
       "      <td>No</td>\n",
       "      <td>No</td>\n",
       "      <td>Yes</td>\n",
       "      <td>No</td>\n",
       "      <td>+2</td>\n",
       "      <td>49</td>\n",
       "      <td>Once a month</td>\n",
       "      <td>Male</td>\n",
       "    </tr>\n",
       "  </tbody>\n",
       "</table>\n",
       "</div>"
      ],
      "text/plain": [
       "  yummy convenient spicy fattening greasy fast cheap tasty expensive healthy  \\\n",
       "0    No        Yes    No       Yes     No  Yes   Yes    No       Yes      No   \n",
       "1   Yes        Yes    No       Yes    Yes  Yes   Yes   Yes       Yes      No   \n",
       "2    No        Yes   Yes       Yes    Yes  Yes    No   Yes       Yes     Yes   \n",
       "3   Yes        Yes    No       Yes    Yes  Yes   Yes   Yes        No      No   \n",
       "4    No        Yes    No       Yes    Yes  Yes   Yes    No        No     Yes   \n",
       "\n",
       "  disgusting Like  Age      VisitFrequency  Gender  \n",
       "0         No   -3   61  Every three months  Female  \n",
       "1         No   +2   51  Every three months  Female  \n",
       "2         No   +1   62  Every three months  Female  \n",
       "3        Yes   +4   69         Once a week  Female  \n",
       "4         No   +2   49        Once a month    Male  "
      ]
     },
     "execution_count": 55,
     "metadata": {},
     "output_type": "execute_result"
    }
   ],
   "source": [
    "data.head()"
   ]
  },
  {
   "cell_type": "markdown",
   "metadata": {
    "id": "znsFMIy2iNgY"
   },
   "source": [
    "# Data Description"
   ]
  },
  {
   "cell_type": "code",
   "execution_count": 56,
   "metadata": {
    "id": "F8xXjRmPiPmv"
   },
   "outputs": [],
   "source": [
    "# The data collection includes responses from 1453 adult Australian consumers about how they see the following aspects of McDonald's: \n",
    "# YUMMY,\n",
    "# CONVENIENT,\n",
    "# SPICY,\n",
    "# FATTENING,\n",
    "# GREASY,\n",
    "# FAST,\n",
    "# CHEAP,\n",
    "# TASTY,\n",
    "# EXPENSIVE,\n",
    "# HEALTHY,\n",
    "# DISGUSTING."
   ]
  },
  {
   "cell_type": "markdown",
   "metadata": {
    "id": "pjDGUjVNfpey"
   },
   "source": [
    "# Data Checking"
   ]
  },
  {
   "cell_type": "code",
   "execution_count": 57,
   "metadata": {
    "colab": {
     "base_uri": "https://localhost:8080/"
    },
    "id": "x1xqxPgIfod4",
    "outputId": "2c138f55-13a5-4ec5-ba3e-2fec6c95b325"
   },
   "outputs": [
    {
     "data": {
      "text/plain": [
       "(1453, 15)"
      ]
     },
     "execution_count": 57,
     "metadata": {},
     "output_type": "execute_result"
    }
   ],
   "source": [
    "data.shape"
   ]
  },
  {
   "cell_type": "code",
   "execution_count": 58,
   "metadata": {
    "colab": {
     "base_uri": "https://localhost:8080/"
    },
    "id": "HIx5YpoIfvNo",
    "outputId": "8c2b7120-a63a-432b-8114-02f387377967"
   },
   "outputs": [
    {
     "name": "stdout",
     "output_type": "stream",
     "text": [
      "<class 'pandas.core.frame.DataFrame'>\n",
      "RangeIndex: 1453 entries, 0 to 1452\n",
      "Data columns (total 15 columns):\n",
      " #   Column          Non-Null Count  Dtype \n",
      "---  ------          --------------  ----- \n",
      " 0   yummy           1453 non-null   object\n",
      " 1   convenient      1453 non-null   object\n",
      " 2   spicy           1453 non-null   object\n",
      " 3   fattening       1453 non-null   object\n",
      " 4   greasy          1453 non-null   object\n",
      " 5   fast            1453 non-null   object\n",
      " 6   cheap           1453 non-null   object\n",
      " 7   tasty           1453 non-null   object\n",
      " 8   expensive       1453 non-null   object\n",
      " 9   healthy         1453 non-null   object\n",
      " 10  disgusting      1453 non-null   object\n",
      " 11  Like            1453 non-null   object\n",
      " 12  Age             1453 non-null   int64 \n",
      " 13  VisitFrequency  1453 non-null   object\n",
      " 14  Gender          1453 non-null   object\n",
      "dtypes: int64(1), object(14)\n",
      "memory usage: 170.4+ KB\n"
     ]
    }
   ],
   "source": [
    "data.info()"
   ]
  },
  {
   "cell_type": "code",
   "execution_count": 59,
   "metadata": {
    "colab": {
     "base_uri": "https://localhost:8080/",
     "height": 300
    },
    "id": "fHnSdxS5fyVY",
    "outputId": "9e33338b-5bc7-4e2c-8f61-fcbf98038521"
   },
   "outputs": [
    {
     "data": {
      "text/html": [
       "<div>\n",
       "<style scoped>\n",
       "    .dataframe tbody tr th:only-of-type {\n",
       "        vertical-align: middle;\n",
       "    }\n",
       "\n",
       "    .dataframe tbody tr th {\n",
       "        vertical-align: top;\n",
       "    }\n",
       "\n",
       "    .dataframe thead th {\n",
       "        text-align: right;\n",
       "    }\n",
       "</style>\n",
       "<table border=\"1\" class=\"dataframe\">\n",
       "  <thead>\n",
       "    <tr style=\"text-align: right;\">\n",
       "      <th></th>\n",
       "      <th>Age</th>\n",
       "    </tr>\n",
       "  </thead>\n",
       "  <tbody>\n",
       "    <tr>\n",
       "      <th>count</th>\n",
       "      <td>1453.000000</td>\n",
       "    </tr>\n",
       "    <tr>\n",
       "      <th>mean</th>\n",
       "      <td>44.604955</td>\n",
       "    </tr>\n",
       "    <tr>\n",
       "      <th>std</th>\n",
       "      <td>14.221178</td>\n",
       "    </tr>\n",
       "    <tr>\n",
       "      <th>min</th>\n",
       "      <td>18.000000</td>\n",
       "    </tr>\n",
       "    <tr>\n",
       "      <th>25%</th>\n",
       "      <td>33.000000</td>\n",
       "    </tr>\n",
       "    <tr>\n",
       "      <th>50%</th>\n",
       "      <td>45.000000</td>\n",
       "    </tr>\n",
       "    <tr>\n",
       "      <th>75%</th>\n",
       "      <td>57.000000</td>\n",
       "    </tr>\n",
       "    <tr>\n",
       "      <th>max</th>\n",
       "      <td>71.000000</td>\n",
       "    </tr>\n",
       "  </tbody>\n",
       "</table>\n",
       "</div>"
      ],
      "text/plain": [
       "               Age\n",
       "count  1453.000000\n",
       "mean     44.604955\n",
       "std      14.221178\n",
       "min      18.000000\n",
       "25%      33.000000\n",
       "50%      45.000000\n",
       "75%      57.000000\n",
       "max      71.000000"
      ]
     },
     "execution_count": 59,
     "metadata": {},
     "output_type": "execute_result"
    }
   ],
   "source": [
    "data.describe()"
   ]
  },
  {
   "cell_type": "code",
   "execution_count": 60,
   "metadata": {
    "colab": {
     "base_uri": "https://localhost:8080/"
    },
    "id": "a-E5LlFBf8J5",
    "outputId": "80311587-95ac-460f-9fc8-2dbb5b1092b9"
   },
   "outputs": [
    {
     "data": {
      "text/plain": [
       "yummy             0\n",
       "convenient        0\n",
       "spicy             0\n",
       "fattening         0\n",
       "greasy            0\n",
       "fast              0\n",
       "cheap             0\n",
       "tasty             0\n",
       "expensive         0\n",
       "healthy           0\n",
       "disgusting        0\n",
       "Like              0\n",
       "Age               0\n",
       "VisitFrequency    0\n",
       "Gender            0\n",
       "dtype: int64"
      ]
     },
     "execution_count": 60,
     "metadata": {},
     "output_type": "execute_result"
    }
   ],
   "source": [
    "data.isna().sum()"
   ]
  },
  {
   "cell_type": "code",
   "execution_count": 61,
   "metadata": {
    "colab": {
     "base_uri": "https://localhost:8080/"
    },
    "id": "PLludFYOikV4",
    "outputId": "27e3bd3d-814e-4010-8eb6-99c96528696d"
   },
   "outputs": [
    {
     "data": {
      "text/plain": [
       "+3              229\n",
       "+2              187\n",
       "0               169\n",
       "+4              160\n",
       "+1              152\n",
       "I hate it!-5    152\n",
       "I love it!+5    143\n",
       "-3               73\n",
       "-4               71\n",
       "-2               59\n",
       "-1               58\n",
       "Name: Like, dtype: int64"
      ]
     },
     "execution_count": 61,
     "metadata": {},
     "output_type": "execute_result"
    }
   ],
   "source": [
    "# Checking the count of 'Gender', 'VisitFrequency' and 'Like'\n",
    "data['Gender'].value_counts()\n",
    "data['VisitFrequency'].value_counts()\n",
    "data['Like'].value_counts()"
   ]
  },
  {
   "cell_type": "markdown",
   "metadata": {
    "id": "GK-euU95f_nI"
   },
   "source": [
    "Dataset is verified and checked successfully!"
   ]
  },
  {
   "cell_type": "markdown",
   "metadata": {
    "id": "D3AghRZ7fZSB"
   },
   "source": [
    "# Exploratory Data Analysis (EDA)"
   ]
  },
  {
   "cell_type": "markdown",
   "metadata": {
    "id": "u04x4blzi8E6"
   },
   "source": [
    "### Customer Segmentation on the basis of **Gender**"
   ]
  },
  {
   "cell_type": "code",
   "execution_count": 62,
   "metadata": {
    "colab": {
     "base_uri": "https://localhost:8080/"
    },
    "id": "1DF58yE2jl-x",
    "outputId": "2debd822-8c43-481b-dd95-afac80be7586"
   },
   "outputs": [
    {
     "data": {
      "text/plain": [
       "Female    788\n",
       "Male      665\n",
       "Name: Gender, dtype: int64"
      ]
     },
     "execution_count": 62,
     "metadata": {},
     "output_type": "execute_result"
    }
   ],
   "source": [
    "data['Gender'].value_counts()"
   ]
  },
  {
   "cell_type": "code",
   "execution_count": 63,
   "metadata": {
    "colab": {
     "base_uri": "https://localhost:8080/",
     "height": 303
    },
    "id": "Iow72Sq4jBpb",
    "outputId": "d9c838ae-d8e2-4582-af89-d1df712d0e1a"
   },
   "outputs": [
    {
     "data": {
      "image/png": "[encoded data removed]",
      "text/plain": [
       "<Figure size 360x360 with 1 Axes>"
      ]
     },
     "metadata": {},
     "output_type": "display_data"
    }
   ],
   "source": [
    "plot = data['Gender'].value_counts().plot(kind='pie', figsize=(5, 5))"
   ]
  },
  {
   "cell_type": "markdown",
   "metadata": {
    "id": "mHBaRzLZkUEo"
   },
   "source": [
    " Conclusion: There are more female customers than male."
   ]
  },
  {
   "cell_type": "markdown",
   "metadata": {
    "id": "darZ5n7olGdC"
   },
   "source": [
    "### Customer Segmentation on the basis of **Age**"
   ]
  },
  {
   "cell_type": "code",
   "execution_count": 64,
   "metadata": {
    "colab": {
     "base_uri": "https://localhost:8080/",
     "height": 0
    },
    "id": "layPS3SElGdD",
    "outputId": "aaf40d8f-cb6b-4f6c-8519-79968b7e15aa"
   },
   "outputs": [
    {
     "data": {
      "image/png": "[encoded data removed]",
      "text/plain": [
       "<Figure size 1440x360 with 1 Axes>"
      ]
     },
     "metadata": {},
     "output_type": "display_data"
    }
   ],
   "source": [
    "plt.rcParams['figure.figsize'] = (20, 5)\n",
    "f = sns.countplot(x=data['Age'],palette = 'hsv')\n",
    "plt.title('Age distribution of customers')\n",
    "plt.show()"
   ]
  },
  {
   "cell_type": "markdown",
   "metadata": {
    "id": "djsl-PpclGdD"
   },
   "source": [
    "Conclusion: McDonalds have more customers of age between 50-60 and 32-37"
   ]
  },
  {
   "cell_type": "markdown",
   "metadata": {
    "id": "lGuVap5Yp_xo"
   },
   "source": [
    "# Data Preprocessing"
   ]
  },
  {
   "cell_type": "markdown",
   "metadata": {
    "id": "-6WgVxz4mBOA"
   },
   "source": [
    "### Label Encoding | Categorical Variable"
   ]
  },
  {
   "cell_type": "markdown",
   "metadata": {
    "id": "wYAE7jD3nmtZ"
   },
   "source": [
    "'yummy', 'convenient', 'spicy', 'fattening', 'greasy', 'fast', 'cheap', 'tasty', 'expensive', 'healthy', 'disgusting'"
   ]
  },
  {
   "cell_type": "code",
   "execution_count": 65,
   "metadata": {
    "id": "CYaydXNdmL5p"
   },
   "outputs": [],
   "source": [
    "data_mod = data.copy()"
   ]
  },
  {
   "cell_type": "code",
   "execution_count": 66,
   "metadata": {
    "id": "E95LtJQwmU4p"
   },
   "outputs": [],
   "source": [
    "cat_features = ['yummy', 'convenient', 'spicy', 'fattening', 'greasy', 'fast', 'cheap',\n",
    "       'tasty', 'expensive', 'healthy', 'disgusting']"
   ]
  },
  {
   "cell_type": "code",
   "execution_count": 67,
   "metadata": {
    "colab": {
     "base_uri": "https://localhost:8080/"
    },
    "id": "qHrajr-LmFqJ",
    "outputId": "1d467a89-2dd4-4c2e-ccd5-072a7d50229c"
   },
   "outputs": [
    {
     "name": "stdout",
     "output_type": "stream",
     "text": [
      "yummy\n",
      "Unique Values: ['No' 'Yes']\n",
      "\n",
      "convenient\n",
      "Unique Values: ['Yes' 'No']\n",
      "\n",
      "spicy\n",
      "Unique Values: ['No' 'Yes']\n",
      "\n",
      "fattening\n",
      "Unique Values: ['Yes' 'No']\n",
      "\n",
      "greasy\n",
      "Unique Values: ['No' 'Yes']\n",
      "\n",
      "fast\n",
      "Unique Values: ['Yes' 'No']\n",
      "\n",
      "cheap\n",
      "Unique Values: ['Yes' 'No']\n",
      "\n",
      "tasty\n",
      "Unique Values: ['No' 'Yes']\n",
      "\n",
      "expensive\n",
      "Unique Values: ['Yes' 'No']\n",
      "\n",
      "healthy\n",
      "Unique Values: ['No' 'Yes']\n",
      "\n",
      "disgusting\n",
      "Unique Values: ['No' 'Yes']\n",
      "\n"
     ]
    }
   ],
   "source": [
    "for i in cat_features:\n",
    "  print(i)\n",
    "  print(\"Unique Values:\", data_mod[i].unique())\n",
    "  print()"
   ]
  },
  {
   "cell_type": "code",
   "execution_count": 68,
   "metadata": {
    "id": "413oLK2tnJeo"
   },
   "outputs": [],
   "source": [
    "for i in cat_features:\n",
    "  data_mod[i] = LabelEncoder().fit_transform(data_mod[i])"
   ]
  },
  {
   "cell_type": "markdown",
   "metadata": {
    "id": "2BJqBfFYnyMB"
   },
   "source": [
    "Replacing 'i love it!+5' and 'i hate it!-5' part from the \"Like\" and encoding it in numerical format (\"+2\" => 2)"
   ]
  },
  {
   "cell_type": "code",
   "execution_count": 69,
   "metadata": {
    "colab": {
     "base_uri": "https://localhost:8080/"
    },
    "id": "JzAenl30oIZA",
    "outputId": "15d5ea9e-7cb5-471b-d640-a9fbb9b0863f"
   },
   "outputs": [
    {
     "data": {
      "text/plain": [
       "array(['-3', '+2', '+1', '+4', 'I love it!+5', 'I hate it!-5', '-2', '+3',\n",
       "       '0', '-4', '-1'], dtype=object)"
      ]
     },
     "execution_count": 69,
     "metadata": {},
     "output_type": "execute_result"
    }
   ],
   "source": [
    "data_mod['Like'].unique()"
   ]
  },
  {
   "cell_type": "code",
   "execution_count": 70,
   "metadata": {
    "colab": {
     "base_uri": "https://localhost:8080/"
    },
    "id": "zZYyv3mZoTo3",
    "outputId": "616cb842-9756-4668-80dd-dbf8ca7a3b6c"
   },
   "outputs": [
    {
     "data": {
      "text/plain": [
       "0                 -3\n",
       "1                 +2\n",
       "2                 +1\n",
       "3                 +4\n",
       "4                 +2\n",
       "            ...     \n",
       "1448    I hate it!-5\n",
       "1449              +2\n",
       "1450              +3\n",
       "1451              +4\n",
       "1452              -3\n",
       "Name: Like, Length: 1453, dtype: object"
      ]
     },
     "execution_count": 70,
     "metadata": {},
     "output_type": "execute_result"
    }
   ],
   "source": [
    "data_mod['Like']"
   ]
  },
  {
   "cell_type": "code",
   "execution_count": 71,
   "metadata": {
    "id": "AEYwrqlknlVw"
   },
   "outputs": [],
   "source": [
    "data_mod['Like'].replace([\"I love it!+5\"],\"5\",inplace=True)\n",
    "data_mod['Like'].replace([\"I hate it!-5\"],\"-5\",inplace=True)"
   ]
  },
  {
   "cell_type": "code",
   "execution_count": 72,
   "metadata": {
    "id": "8Rt3FxaFoiAS"
   },
   "outputs": [],
   "source": [
    "data_mod['Like'] = data_mod['Like'].astype(int)"
   ]
  },
  {
   "cell_type": "code",
   "execution_count": 73,
   "metadata": {
    "colab": {
     "base_uri": "https://localhost:8080/"
    },
    "id": "y4-qDjAAoh6n",
    "outputId": "91944a9b-af3e-4139-d912-e42b54e10f34"
   },
   "outputs": [
    {
     "name": "stdout",
     "output_type": "stream",
     "text": [
      "<class 'pandas.core.frame.DataFrame'>\n",
      "RangeIndex: 1453 entries, 0 to 1452\n",
      "Data columns (total 15 columns):\n",
      " #   Column          Non-Null Count  Dtype \n",
      "---  ------          --------------  ----- \n",
      " 0   yummy           1453 non-null   int32 \n",
      " 1   convenient      1453 non-null   int32 \n",
      " 2   spicy           1453 non-null   int32 \n",
      " 3   fattening       1453 non-null   int32 \n",
      " 4   greasy          1453 non-null   int32 \n",
      " 5   fast            1453 non-null   int32 \n",
      " 6   cheap           1453 non-null   int32 \n",
      " 7   tasty           1453 non-null   int32 \n",
      " 8   expensive       1453 non-null   int32 \n",
      " 9   healthy         1453 non-null   int32 \n",
      " 10  disgusting      1453 non-null   int32 \n",
      " 11  Like            1453 non-null   int32 \n",
      " 12  Age             1453 non-null   int64 \n",
      " 13  VisitFrequency  1453 non-null   object\n",
      " 14  Gender          1453 non-null   object\n",
      "dtypes: int32(12), int64(1), object(2)\n",
      "memory usage: 102.3+ KB\n"
     ]
    }
   ],
   "source": [
    "data_mod.info()"
   ]
  },
  {
   "cell_type": "markdown",
   "metadata": {
    "id": "3tfemrx2pmOQ"
   },
   "source": [
    "# Data Visualization"
   ]
  },
  {
   "cell_type": "markdown",
   "metadata": {
    "id": "LGSM7-1DrFnI"
   },
   "source": [
    "### Histogram plot of Binary Variables & (\"Like\", \"Age\")"
   ]
  },
  {
   "cell_type": "code",
   "execution_count": 74,
   "metadata": {
    "colab": {
     "base_uri": "https://localhost:8080/",
     "height": 824
    },
    "id": "57p0IHhaplZA",
    "outputId": "3df756cb-d4c4-4793-d76d-d3cb6f0b7b8e"
   },
   "outputs": [
    {
     "data": {
      "image/png": "[encoded data removed]",
      "text/plain": [
       "<Figure size 864x1008 with 16 Axes>"
      ]
     },
     "metadata": {},
     "output_type": "display_data"
    }
   ],
   "source": [
    "plt.rcParams['figure.figsize'] = (12,14)\n",
    "data_mod.hist()\n",
    "plt.show()"
   ]
  },
  {
   "cell_type": "markdown",
   "metadata": {
    "id": "SxXsMOx8rQZq"
   },
   "source": [
    "### Distribution of \"Like\""
   ]
  },
  {
   "cell_type": "code",
   "execution_count": 75,
   "metadata": {
    "colab": {
     "base_uri": "https://localhost:8080/",
     "height": 840
    },
    "id": "7w9C78qprR84",
    "outputId": "e5a7d151-bddf-4d57-8d25-3d3f7e83e65e"
   },
   "outputs": [
    {
     "data": {
      "text/plain": [
       "<AxesSubplot:xlabel='Like', ylabel='count'>"
      ]
     },
     "execution_count": 75,
     "metadata": {},
     "output_type": "execute_result"
    },
    {
     "data": {
      "image/png": "[encoded data removed]",
      "text/plain": [
       "<Figure size 864x1008 with 1 Axes>"
      ]
     },
     "metadata": {},
     "output_type": "display_data"
    }
   ],
   "source": [
    "sns.countplot(x='Like',data=data_mod)"
   ]
  },
  {
   "cell_type": "markdown",
   "metadata": {
    "id": "6pEUmKIqrcGZ"
   },
   "source": [
    "Conclusion: Most of the customers have given a rating of 3 (Average Rating)"
   ]
  },
  {
   "cell_type": "markdown",
   "metadata": {
    "id": "LtzAYBhFp6Vp"
   },
   "source": [
    "# Principal Componenent Analysis (PCA)"
   ]
  },
  {
   "cell_type": "markdown",
   "metadata": {
    "id": "2paXyJTjqj8A"
   },
   "source": [
    "Taking the first 11 features from the dataset and applying PCA over them \\\n",
    "Number of Principal Components Taken: 5"
   ]
  },
  {
   "cell_type": "code",
   "execution_count": 76,
   "metadata": {
    "id": "NffNfKcJqcOC"
   },
   "outputs": [],
   "source": [
    "data_mod_forPCA = data_mod.loc[:,cat_features]"
   ]
  },
  {
   "cell_type": "code",
   "execution_count": 77,
   "metadata": {
    "colab": {
     "base_uri": "https://localhost:8080/",
     "height": 0
    },
    "id": "7jGl7QAup5JY",
    "outputId": "d319fbbd-9940-4af5-b6d9-cbee80ef452c"
   },
   "outputs": [
    {
     "data": {
      "text/html": [
       "<div>\n",
       "<style scoped>\n",
       "    .dataframe tbody tr th:only-of-type {\n",
       "        vertical-align: middle;\n",
       "    }\n",
       "\n",
       "    .dataframe tbody tr th {\n",
       "        vertical-align: top;\n",
       "    }\n",
       "\n",
       "    .dataframe thead th {\n",
       "        text-align: right;\n",
       "    }\n",
       "</style>\n",
       "<table border=\"1\" class=\"dataframe\">\n",
       "  <thead>\n",
       "    <tr style=\"text-align: right;\">\n",
       "      <th></th>\n",
       "      <th>pc1</th>\n",
       "      <th>pc2</th>\n",
       "      <th>pc3</th>\n",
       "      <th>pc4</th>\n",
       "      <th>pc5</th>\n",
       "    </tr>\n",
       "  </thead>\n",
       "  <tbody>\n",
       "    <tr>\n",
       "      <th>0</th>\n",
       "      <td>0.425367</td>\n",
       "      <td>-0.219079</td>\n",
       "      <td>0.663255</td>\n",
       "      <td>-0.401300</td>\n",
       "      <td>0.201705</td>\n",
       "    </tr>\n",
       "    <tr>\n",
       "      <th>1</th>\n",
       "      <td>-0.218638</td>\n",
       "      <td>0.388190</td>\n",
       "      <td>-0.730827</td>\n",
       "      <td>-0.094724</td>\n",
       "      <td>0.044669</td>\n",
       "    </tr>\n",
       "    <tr>\n",
       "      <th>2</th>\n",
       "      <td>0.375415</td>\n",
       "      <td>0.730435</td>\n",
       "      <td>-0.122040</td>\n",
       "      <td>0.692262</td>\n",
       "      <td>0.839643</td>\n",
       "    </tr>\n",
       "    <tr>\n",
       "      <th>3</th>\n",
       "      <td>-0.172926</td>\n",
       "      <td>-0.352752</td>\n",
       "      <td>-0.843795</td>\n",
       "      <td>0.206998</td>\n",
       "      <td>-0.681415</td>\n",
       "    </tr>\n",
       "    <tr>\n",
       "      <th>4</th>\n",
       "      <td>0.187057</td>\n",
       "      <td>-0.807610</td>\n",
       "      <td>0.028537</td>\n",
       "      <td>0.548332</td>\n",
       "      <td>0.854074</td>\n",
       "    </tr>\n",
       "    <tr>\n",
       "      <th>...</th>\n",
       "      <td>...</td>\n",
       "      <td>...</td>\n",
       "      <td>...</td>\n",
       "      <td>...</td>\n",
       "      <td>...</td>\n",
       "    </tr>\n",
       "    <tr>\n",
       "      <th>1448</th>\n",
       "      <td>1.550242</td>\n",
       "      <td>0.275031</td>\n",
       "      <td>-0.013737</td>\n",
       "      <td>0.200604</td>\n",
       "      <td>-0.145063</td>\n",
       "    </tr>\n",
       "    <tr>\n",
       "      <th>1449</th>\n",
       "      <td>-0.957339</td>\n",
       "      <td>0.014308</td>\n",
       "      <td>0.303843</td>\n",
       "      <td>0.444350</td>\n",
       "      <td>-0.133690</td>\n",
       "    </tr>\n",
       "    <tr>\n",
       "      <th>1450</th>\n",
       "      <td>-0.185894</td>\n",
       "      <td>1.062662</td>\n",
       "      <td>0.220857</td>\n",
       "      <td>-0.467643</td>\n",
       "      <td>-0.187757</td>\n",
       "    </tr>\n",
       "    <tr>\n",
       "      <th>1451</th>\n",
       "      <td>-1.182064</td>\n",
       "      <td>-0.038570</td>\n",
       "      <td>0.561561</td>\n",
       "      <td>0.701126</td>\n",
       "      <td>0.047645</td>\n",
       "    </tr>\n",
       "    <tr>\n",
       "      <th>1452</th>\n",
       "      <td>1.550242</td>\n",
       "      <td>0.275031</td>\n",
       "      <td>-0.013737</td>\n",
       "      <td>0.200604</td>\n",
       "      <td>-0.145063</td>\n",
       "    </tr>\n",
       "  </tbody>\n",
       "</table>\n",
       "<p>1453 rows × 5 columns</p>\n",
       "</div>"
      ],
      "text/plain": [
       "           pc1       pc2       pc3       pc4       pc5\n",
       "0     0.425367 -0.219079  0.663255 -0.401300  0.201705\n",
       "1    -0.218638  0.388190 -0.730827 -0.094724  0.044669\n",
       "2     0.375415  0.730435 -0.122040  0.692262  0.839643\n",
       "3    -0.172926 -0.352752 -0.843795  0.206998 -0.681415\n",
       "4     0.187057 -0.807610  0.028537  0.548332  0.854074\n",
       "...        ...       ...       ...       ...       ...\n",
       "1448  1.550242  0.275031 -0.013737  0.200604 -0.145063\n",
       "1449 -0.957339  0.014308  0.303843  0.444350 -0.133690\n",
       "1450 -0.185894  1.062662  0.220857 -0.467643 -0.187757\n",
       "1451 -1.182064 -0.038570  0.561561  0.701126  0.047645\n",
       "1452  1.550242  0.275031 -0.013737  0.200604 -0.145063\n",
       "\n",
       "[1453 rows x 5 columns]"
      ]
     },
     "execution_count": 77,
     "metadata": {},
     "output_type": "execute_result"
    }
   ],
   "source": [
    "pca = PCA(n_components=5)\n",
    "pc = pca.fit_transform(data_mod_forPCA)\n",
    "names = ['pc1','pc2','pc3','pc4','pc5']\n",
    "pf = pd.DataFrame(data = pc, columns = names)\n",
    "pf"
   ]
  },
  {
   "cell_type": "markdown",
   "metadata": {
    "id": "8puD6HNisi34"
   },
   "source": [
    "Proportion of Variance from First to Fifth PC"
   ]
  },
  {
   "cell_type": "code",
   "execution_count": 78,
   "metadata": {
    "colab": {
     "base_uri": "https://localhost:8080/"
    },
    "id": "fj2qelBksZ3J",
    "outputId": "7ebb6d17-40e1-4cc8-c496-cd1f03efe816"
   },
   "outputs": [
    {
     "data": {
      "text/plain": [
       "array([0.29944723, 0.19279721, 0.13304535, 0.08309578, 0.05948052])"
      ]
     },
     "execution_count": 78,
     "metadata": {},
     "output_type": "execute_result"
    }
   ],
   "source": [
    "pca.explained_variance_ratio_"
   ]
  },
  {
   "cell_type": "code",
   "execution_count": 79,
   "metadata": {
    "colab": {
     "base_uri": "https://localhost:8080/",
     "height": 0
    },
    "id": "fS3jS9F3sqtw",
    "outputId": "143a0626-f91f-4059-a0c2-7a588e783099"
   },
   "outputs": [
    {
     "data": {
      "text/plain": [
       "Text(0.5, 1.0, 'Scree Plot')"
      ]
     },
     "execution_count": 79,
     "metadata": {},
     "output_type": "execute_result"
    },
    {
     "data": {
      "image/png": "[encoded data removed]",
      "text/plain": [
       "<Figure size 864x576 with 1 Axes>"
      ]
     },
     "metadata": {},
     "output_type": "display_data"
    }
   ],
   "source": [
    "plt.rcParams['figure.figsize'] = (12,8)\n",
    "plt.plot(pca.explained_variance_, marker='o')\n",
    "plt.xlabel(\"Eigenvalue number\")\n",
    "plt.ylabel(\"Eigenvalue size\")\n",
    "plt.title(\"Scree Plot\")"
   ]
  },
  {
   "cell_type": "markdown",
   "metadata": {
    "id": "-sdSkrsquDQB"
   },
   "source": [
    "# Extracting Segments"
   ]
  },
  {
   "cell_type": "code",
   "execution_count": 97,
   "metadata": {
    "colab": {
     "base_uri": "https://localhost:8080/",
     "height": 0
    },
    "id": "OY3uSSNAuCLq",
    "outputId": "6045b0fa-6374-4027-e594-866a78ce3e7a"
   },
   "outputs": [
    {
     "name": "stderr",
     "output_type": "stream",
     "text": [
      "C:\\Users\\91951\\anaconda3\\lib\\site-packages\\sklearn\\cluster\\_kmeans.py:1334: UserWarning: KMeans is known to have a memory leak on Windows with MKL, when there are less chunks than available threads. You can avoid it by setting the environment variable OMP_NUM_THREADS=6.\n",
      "  warnings.warn(\n",
      "C:\\Users\\91951\\anaconda3\\lib\\site-packages\\sklearn\\cluster\\_kmeans.py:1334: UserWarning: KMeans is known to have a memory leak on Windows with MKL, when there are less chunks than available threads. You can avoid it by setting the environment variable OMP_NUM_THREADS=6.\n",
      "  warnings.warn(\n",
      "C:\\Users\\91951\\anaconda3\\lib\\site-packages\\sklearn\\cluster\\_kmeans.py:1334: UserWarning: KMeans is known to have a memory leak on Windows with MKL, when there are less chunks than available threads. You can avoid it by setting the environment variable OMP_NUM_THREADS=6.\n",
      "  warnings.warn(\n",
      "C:\\Users\\91951\\anaconda3\\lib\\site-packages\\sklearn\\cluster\\_kmeans.py:1334: UserWarning: KMeans is known to have a memory leak on Windows with MKL, when there are less chunks than available threads. You can avoid it by setting the environment variable OMP_NUM_THREADS=6.\n",
      "  warnings.warn(\n",
      "C:\\Users\\91951\\anaconda3\\lib\\site-packages\\sklearn\\cluster\\_kmeans.py:1334: UserWarning: KMeans is known to have a memory leak on Windows with MKL, when there are less chunks than available threads. You can avoid it by setting the environment variable OMP_NUM_THREADS=6.\n",
      "  warnings.warn(\n",
      "C:\\Users\\91951\\anaconda3\\lib\\site-packages\\sklearn\\cluster\\_kmeans.py:1334: UserWarning: KMeans is known to have a memory leak on Windows with MKL, when there are less chunks than available threads. You can avoid it by setting the environment variable OMP_NUM_THREADS=6.\n",
      "  warnings.warn(\n",
      "C:\\Users\\91951\\anaconda3\\lib\\site-packages\\sklearn\\cluster\\_kmeans.py:1334: UserWarning: KMeans is known to have a memory leak on Windows with MKL, when there are less chunks than available threads. You can avoid it by setting the environment variable OMP_NUM_THREADS=6.\n",
      "  warnings.warn(\n",
      "C:\\Users\\91951\\anaconda3\\lib\\site-packages\\sklearn\\cluster\\_kmeans.py:1334: UserWarning: KMeans is known to have a memory leak on Windows with MKL, when there are less chunks than available threads. You can avoid it by setting the environment variable OMP_NUM_THREADS=6.\n",
      "  warnings.warn(\n",
      "C:\\Users\\91951\\anaconda3\\lib\\site-packages\\sklearn\\cluster\\_kmeans.py:1334: UserWarning: KMeans is known to have a memory leak on Windows with MKL, when there are less chunks than available threads. You can avoid it by setting the environment variable OMP_NUM_THREADS=6.\n",
      "  warnings.warn(\n",
      "C:\\Users\\91951\\anaconda3\\lib\\site-packages\\sklearn\\cluster\\_kmeans.py:1334: UserWarning: KMeans is known to have a memory leak on Windows with MKL, when there are less chunks than available threads. You can avoid it by setting the environment variable OMP_NUM_THREADS=6.\n",
      "  warnings.warn(\n",
      "C:\\Users\\91951\\anaconda3\\lib\\site-packages\\sklearn\\cluster\\_kmeans.py:1334: UserWarning: KMeans is known to have a memory leak on Windows with MKL, when there are less chunks than available threads. You can avoid it by setting the environment variable OMP_NUM_THREADS=6.\n",
      "  warnings.warn(\n"
     ]
    },
    {
     "data": {
      "image/png": "[encoded data removed]",
      "text/plain": [
       "<Figure size 864x576 with 2 Axes>"
      ]
     },
     "metadata": {},
     "output_type": "display_data"
    },
    {
     "data": {
      "text/plain": [
       "<AxesSubplot:title={'center':'Distortion Score Elbow for KMeans Clustering'}, xlabel='k', ylabel='distortion score'>"
      ]
     },
     "execution_count": 97,
     "metadata": {},
     "output_type": "execute_result"
    }
   ],
   "source": [
    "from yellowbrick.cluster import KElbowVisualizer\n",
    "model = KMeans()\n",
    "visualizer = KElbowVisualizer(model, k=(1,12)).fit(data_mod_forPCA)\n",
    "visualizer.show()"
   ]
  },
  {
   "cell_type": "markdown",
   "metadata": {
    "id": "3bB4W0oZwEmC"
   },
   "source": [
    "Conclusion: Best Number of Clusters = 4"
   ]
  },
  {
   "cell_type": "markdown",
   "metadata": {
    "id": "Og9qu9zUuXoY"
   },
   "source": [
    "# Using K-Means Clustering (Number of Clusters = 4)"
   ]
  },
  {
   "cell_type": "code",
   "execution_count": 81,
   "metadata": {},
   "outputs": [],
   "source": [
    "import os\n",
    "os.environ[\"OMP_NUM_THREADS\"] ='6'"
   ]
  },
  {
   "cell_type": "code",
   "execution_count": 95,
   "metadata": {
    "id": "b1ENqtGKuZlA"
   },
   "outputs": [
    {
     "name": "stderr",
     "output_type": "stream",
     "text": [
      "C:\\Users\\91951\\anaconda3\\lib\\site-packages\\sklearn\\cluster\\_kmeans.py:1334: UserWarning: KMeans is known to have a memory leak on Windows with MKL, when there are less chunks than available threads. You can avoid it by setting the environment variable OMP_NUM_THREADS=6.\n",
      "  warnings.warn(\n"
     ]
    }
   ],
   "source": [
    "kmeans = KMeans(n_clusters=4, init='k-means++', random_state=0)\n",
    "y_kmeans = kmeans.fit_predict(pf)\n",
    "pf['cluster_num'] = kmeans.labels_ \n",
    "data_mod_forPCA[\"cluster_num\"] = kmeans.labels_ "
   ]
  },
  {
   "cell_type": "code",
   "execution_count": 96,
   "metadata": {
    "colab": {
     "base_uri": "https://localhost:8080/"
    },
    "id": "bEA6da-PvZfA",
    "outputId": "7058e2f9-4298-46e7-a5fb-11612ef7b733"
   },
   "outputs": [
    {
     "name": "stdout",
     "output_type": "stream",
     "text": [
      "K-Means Labels:\n",
      "[3 2 2 ... 2 1 0]\n",
      "\n",
      "Within Cluster SS:\n",
      "960.1782311301811\n",
      "\n",
      "Number of Iterations Taken:\n",
      "3\n",
      "\n"
     ]
    }
   ],
   "source": [
    "print(\"K-Means Labels:\")\n",
    "print(kmeans.labels_,end=\"  \\n\\n\")\n",
    "print(\"Within Cluster SS:\")\n",
    "print(kmeans.inertia_,end=\"  \\n\\n\")\n",
    "print(\"Number of Iterations Taken:\")\n",
    "print(kmeans.n_iter_,end=\"  \\n\\n\")"
   ]
  },
  {
   "cell_type": "markdown",
   "metadata": {
    "id": "LLP_q0y1vOKx"
   },
   "source": [
    "### Cluster Sizes"
   ]
  },
  {
   "cell_type": "code",
   "execution_count": 84,
   "metadata": {
    "colab": {
     "base_uri": "https://localhost:8080/"
    },
    "id": "YLv5LYvyvNF5",
    "outputId": "26020c0a-a1b3-403a-877c-6eb7cf7b5df5"
   },
   "outputs": [
    {
     "data": {
      "text/plain": [
       "Counter({1: 308, 0: 354, 3: 550, 2: 241})"
      ]
     },
     "execution_count": 84,
     "metadata": {},
     "output_type": "execute_result"
    }
   ],
   "source": [
    "Counter(kmeans.labels_)"
   ]
  },
  {
   "cell_type": "markdown",
   "metadata": {
    "id": "dOEkF5Okvo8I"
   },
   "source": [
    "### Visualizing Clusters"
   ]
  },
  {
   "cell_type": "code",
   "execution_count": 85,
   "metadata": {
    "colab": {
     "base_uri": "https://localhost:8080/",
     "height": 337
    },
    "id": "2qa7L5txvq3A",
    "outputId": "83482422-7eda-45e1-a06d-3c938fe339cc"
   },
   "outputs": [
    {
     "data": {
      "text/plain": [
       "<matplotlib.legend.Legend at 0x1e0c25b96d0>"
      ]
     },
     "execution_count": 85,
     "metadata": {},
     "output_type": "execute_result"
    },
    {
     "data": {
      "image/png": "[encoded data removed]",
      "text/plain": [
       "<Figure size 720x360 with 1 Axes>"
      ]
     },
     "metadata": {},
     "output_type": "display_data"
    }
   ],
   "source": [
    "plt.figure(figsize=(10,5))\n",
    "plt.scatter(pf.values[y_kmeans  == 0, 0], pf.values[y_kmeans  == 0, 1], s = 100, c = 'red', label = '0')\n",
    "plt.scatter(pf.values[y_kmeans  == 1, 0], pf.values[y_kmeans  == 1, 1], s = 100, c = 'orange', label = '1')\n",
    "plt.scatter(pf.values[y_kmeans  == 2, 0], pf.values[y_kmeans  == 2, 1], s = 100, c = 'green', label = '2')\n",
    "plt.scatter(pf.values[y_kmeans  == 3, 0], pf.values[y_kmeans  == 3, 1], s = 100, c = 'blue', label = '3')\n",
    "plt.scatter(kmeans.cluster_centers_[:, 0], kmeans.cluster_centers_[:,1], s = 100, c = 'black', label = 'Centroids')\n",
    "plt.legend()"
   ]
  },
  {
   "cell_type": "markdown",
   "metadata": {
    "id": "6RLKdFqPy3Vy"
   },
   "source": []
  },
  {
   "cell_type": "markdown",
   "metadata": {
    "id": "6i72dmQ-5Z3Y"
   },
   "source": [
    "# Selecting Target Segment"
   ]
  },
  {
   "cell_type": "code",
   "execution_count": 86,
   "metadata": {
    "id": "gUWCSS1b55l6"
   },
   "outputs": [],
   "source": [
    "data_mod['cluster_num'] = pf['cluster_num']"
   ]
  },
  {
   "cell_type": "markdown",
   "metadata": {
    "id": "imaOFh1o5d5B"
   },
   "source": [
    "Visit Frequency"
   ]
  },
  {
   "cell_type": "code",
   "execution_count": 87,
   "metadata": {
    "colab": {
     "base_uri": "https://localhost:8080/",
     "height": 175
    },
    "id": "bXBvYoCl5czh",
    "outputId": "c94fe540-6f35-40f2-ad41-5d22d28cf8d7"
   },
   "outputs": [
    {
     "data": {
      "text/html": [
       "<div>\n",
       "<style scoped>\n",
       "    .dataframe tbody tr th:only-of-type {\n",
       "        vertical-align: middle;\n",
       "    }\n",
       "\n",
       "    .dataframe tbody tr th {\n",
       "        vertical-align: top;\n",
       "    }\n",
       "\n",
       "    .dataframe thead th {\n",
       "        text-align: right;\n",
       "    }\n",
       "</style>\n",
       "<table border=\"1\" class=\"dataframe\">\n",
       "  <thead>\n",
       "    <tr style=\"text-align: right;\">\n",
       "      <th></th>\n",
       "      <th>cluster_num</th>\n",
       "      <th>VisitFrequency</th>\n",
       "    </tr>\n",
       "  </thead>\n",
       "  <tbody>\n",
       "    <tr>\n",
       "      <th>0</th>\n",
       "      <td>0</td>\n",
       "      <td>2.533898</td>\n",
       "    </tr>\n",
       "    <tr>\n",
       "      <th>1</th>\n",
       "      <td>1</td>\n",
       "      <td>2.818182</td>\n",
       "    </tr>\n",
       "    <tr>\n",
       "      <th>2</th>\n",
       "      <td>2</td>\n",
       "      <td>2.668050</td>\n",
       "    </tr>\n",
       "    <tr>\n",
       "      <th>3</th>\n",
       "      <td>3</td>\n",
       "      <td>2.590909</td>\n",
       "    </tr>\n",
       "  </tbody>\n",
       "</table>\n",
       "</div>"
      ],
      "text/plain": [
       "   cluster_num  VisitFrequency\n",
       "0            0        2.533898\n",
       "1            1        2.818182\n",
       "2            2        2.668050\n",
       "3            3        2.590909"
      ]
     },
     "execution_count": 87,
     "metadata": {},
     "output_type": "execute_result"
    }
   ],
   "source": [
    "data_mod['VisitFrequency'] = LabelEncoder().fit_transform(data_mod['VisitFrequency'])\n",
    "visit = data_mod.groupby('cluster_num')['VisitFrequency'].mean()\n",
    "visit = visit.to_frame().reset_index()\n",
    "visit"
   ]
  },
  {
   "cell_type": "markdown",
   "metadata": {
    "id": "It3hZTpn6BOi"
   },
   "source": [
    "Like"
   ]
  },
  {
   "cell_type": "code",
   "execution_count": 88,
   "metadata": {
    "colab": {
     "base_uri": "https://localhost:8080/",
     "height": 175
    },
    "id": "Hme4g6_26B3J",
    "outputId": "d209e62d-6826-4c20-fc3c-79ef9075d0a0"
   },
   "outputs": [
    {
     "data": {
      "text/html": [
       "<div>\n",
       "<style scoped>\n",
       "    .dataframe tbody tr th:only-of-type {\n",
       "        vertical-align: middle;\n",
       "    }\n",
       "\n",
       "    .dataframe tbody tr th {\n",
       "        vertical-align: top;\n",
       "    }\n",
       "\n",
       "    .dataframe thead th {\n",
       "        text-align: right;\n",
       "    }\n",
       "</style>\n",
       "<table border=\"1\" class=\"dataframe\">\n",
       "  <thead>\n",
       "    <tr style=\"text-align: right;\">\n",
       "      <th></th>\n",
       "      <th>cluster_num</th>\n",
       "      <th>Like</th>\n",
       "    </tr>\n",
       "  </thead>\n",
       "  <tbody>\n",
       "    <tr>\n",
       "      <th>0</th>\n",
       "      <td>0</td>\n",
       "      <td>7.132768</td>\n",
       "    </tr>\n",
       "    <tr>\n",
       "      <th>1</th>\n",
       "      <td>1</td>\n",
       "      <td>3.503247</td>\n",
       "    </tr>\n",
       "    <tr>\n",
       "      <th>2</th>\n",
       "      <td>2</td>\n",
       "      <td>2.331950</td>\n",
       "    </tr>\n",
       "    <tr>\n",
       "      <th>3</th>\n",
       "      <td>3</td>\n",
       "      <td>7.687273</td>\n",
       "    </tr>\n",
       "  </tbody>\n",
       "</table>\n",
       "</div>"
      ],
      "text/plain": [
       "   cluster_num      Like\n",
       "0            0  7.132768\n",
       "1            1  3.503247\n",
       "2            2  2.331950\n",
       "3            3  7.687273"
      ]
     },
     "execution_count": 88,
     "metadata": {},
     "output_type": "execute_result"
    }
   ],
   "source": [
    "data_mod['Like'] = LabelEncoder().fit_transform(data_mod['Like'])\n",
    "Like = data_mod.groupby('cluster_num')['Like'].mean()\n",
    "Like = Like.to_frame().reset_index()\n",
    "Like"
   ]
  },
  {
   "cell_type": "markdown",
   "metadata": {
    "id": "Fqp9WOi96Htp"
   },
   "source": [
    "Gender"
   ]
  },
  {
   "cell_type": "code",
   "execution_count": 89,
   "metadata": {
    "colab": {
     "base_uri": "https://localhost:8080/",
     "height": 175
    },
    "id": "T10H2nr-6GCp",
    "outputId": "314943c6-6ae7-4f21-c557-f50a321b3f90"
   },
   "outputs": [
    {
     "data": {
      "text/html": [
       "<div>\n",
       "<style scoped>\n",
       "    .dataframe tbody tr th:only-of-type {\n",
       "        vertical-align: middle;\n",
       "    }\n",
       "\n",
       "    .dataframe tbody tr th {\n",
       "        vertical-align: top;\n",
       "    }\n",
       "\n",
       "    .dataframe thead th {\n",
       "        text-align: right;\n",
       "    }\n",
       "</style>\n",
       "<table border=\"1\" class=\"dataframe\">\n",
       "  <thead>\n",
       "    <tr style=\"text-align: right;\">\n",
       "      <th></th>\n",
       "      <th>cluster_num</th>\n",
       "      <th>Gender</th>\n",
       "    </tr>\n",
       "  </thead>\n",
       "  <tbody>\n",
       "    <tr>\n",
       "      <th>0</th>\n",
       "      <td>0</td>\n",
       "      <td>0.514124</td>\n",
       "    </tr>\n",
       "    <tr>\n",
       "      <th>1</th>\n",
       "      <td>1</td>\n",
       "      <td>0.405844</td>\n",
       "    </tr>\n",
       "    <tr>\n",
       "      <th>2</th>\n",
       "      <td>2</td>\n",
       "      <td>0.580913</td>\n",
       "    </tr>\n",
       "    <tr>\n",
       "      <th>3</th>\n",
       "      <td>3</td>\n",
       "      <td>0.396364</td>\n",
       "    </tr>\n",
       "  </tbody>\n",
       "</table>\n",
       "</div>"
      ],
      "text/plain": [
       "   cluster_num    Gender\n",
       "0            0  0.514124\n",
       "1            1  0.405844\n",
       "2            2  0.580913\n",
       "3            3  0.396364"
      ]
     },
     "execution_count": 89,
     "metadata": {},
     "output_type": "execute_result"
    }
   ],
   "source": [
    "data_mod['Gender'] = LabelEncoder().fit_transform(data_mod['Gender'])\n",
    "Gender = data_mod.groupby('cluster_num')['Gender'].mean()\n",
    "Gender = Gender.to_frame().reset_index()\n",
    "Gender"
   ]
  },
  {
   "cell_type": "code",
   "execution_count": 90,
   "metadata": {
    "colab": {
     "base_uri": "https://localhost:8080/",
     "height": 175
    },
    "id": "WnNbT5ue6NCw",
    "outputId": "ef79269b-2231-41db-e642-c78c2449085d"
   },
   "outputs": [
    {
     "data": {
      "text/html": [
       "<div>\n",
       "<style scoped>\n",
       "    .dataframe tbody tr th:only-of-type {\n",
       "        vertical-align: middle;\n",
       "    }\n",
       "\n",
       "    .dataframe tbody tr th {\n",
       "        vertical-align: top;\n",
       "    }\n",
       "\n",
       "    .dataframe thead th {\n",
       "        text-align: right;\n",
       "    }\n",
       "</style>\n",
       "<table border=\"1\" class=\"dataframe\">\n",
       "  <thead>\n",
       "    <tr style=\"text-align: right;\">\n",
       "      <th></th>\n",
       "      <th>cluster_num</th>\n",
       "      <th>Gender</th>\n",
       "      <th>Like</th>\n",
       "      <th>VisitFrequency</th>\n",
       "    </tr>\n",
       "  </thead>\n",
       "  <tbody>\n",
       "    <tr>\n",
       "      <th>0</th>\n",
       "      <td>0</td>\n",
       "      <td>0.514124</td>\n",
       "      <td>7.132768</td>\n",
       "      <td>2.533898</td>\n",
       "    </tr>\n",
       "    <tr>\n",
       "      <th>1</th>\n",
       "      <td>1</td>\n",
       "      <td>0.405844</td>\n",
       "      <td>3.503247</td>\n",
       "      <td>2.818182</td>\n",
       "    </tr>\n",
       "    <tr>\n",
       "      <th>2</th>\n",
       "      <td>2</td>\n",
       "      <td>0.580913</td>\n",
       "      <td>2.331950</td>\n",
       "      <td>2.668050</td>\n",
       "    </tr>\n",
       "    <tr>\n",
       "      <th>3</th>\n",
       "      <td>3</td>\n",
       "      <td>0.396364</td>\n",
       "      <td>7.687273</td>\n",
       "      <td>2.590909</td>\n",
       "    </tr>\n",
       "  </tbody>\n",
       "</table>\n",
       "</div>"
      ],
      "text/plain": [
       "   cluster_num    Gender      Like  VisitFrequency\n",
       "0            0  0.514124  7.132768        2.533898\n",
       "1            1  0.405844  3.503247        2.818182\n",
       "2            2  0.580913  2.331950        2.668050\n",
       "3            3  0.396364  7.687273        2.590909"
      ]
     },
     "execution_count": 90,
     "metadata": {},
     "output_type": "execute_result"
    }
   ],
   "source": [
    "segment = Gender.merge(Like, on='cluster_num').merge(visit, on='cluster_num')\n",
    "segment"
   ]
  },
  {
   "cell_type": "code",
   "execution_count": 91,
   "metadata": {
    "id": "w7V7_6k36Yv6"
   },
   "outputs": [],
   "source": [
    "# Visit Frequency is highest for Segment 3 but their liking is low #"
   ]
  },
  {
   "cell_type": "code",
   "execution_count": 92,
   "metadata": {
    "colab": {
     "base_uri": "https://localhost:8080/",
     "height": 349
    },
    "id": "9IBtraL865aZ",
    "outputId": "77e08c5d-faa1-4bbf-8936-767d59c1b8a9"
   },
   "outputs": [
    {
     "data": {
      "image/png": "[encoded data removed]",
      "text/plain": [
       "<Figure size 648x360 with 1 Axes>"
      ]
     },
     "metadata": {},
     "output_type": "display_data"
    }
   ],
   "source": [
    "plt.figure(figsize = (9,5))\n",
    "sns.scatterplot(x = \"VisitFrequency\", y = \"Like\",data=segment,s=400, color=\"r\")\n",
    "plt.title(\"Segment Evaluation\") \n",
    "plt.xlabel(\"Visiting Frequency\") \n",
    "plt.ylabel(\"Like\") \n",
    "plt.show()"
   ]
  },
  {
   "cell_type": "markdown",
   "metadata": {
    "id": "Jo-ZXrss7b7B"
   },
   "source": [
    "Conclusion :\n",
    "Market Segment 3 views McDonald's in a negative way. People of market segment 3, however, could be a potential target in terms of the frequency of visits. Marketing efforts should be targeted to counteract this segment's unfavourable impressions and hence less liking of the food. As a consequence of this, McDonald's could be able to increase the number of its customers."
   ]
  },
  {
   "cell_type": "code",
   "execution_count": null,
   "metadata": {},
   "outputs": [],
   "source": []
  }
 ],
 "metadata": {
  "colab": {
   "collapsed_sections": [
    "N_YuNKgydvR5",
    "SIajlLQWeHgK",
    "znsFMIy2iNgY",
    "u04x4blzi8E6",
    "darZ5n7olGdC",
    "LGSM7-1DrFnI",
    "SxXsMOx8rQZq",
    "LtzAYBhFp6Vp",
    "-sdSkrsquDQB"
   ],
   "name": "Market Segmentation Analysis | McDonalds Case Study",
   "provenance": []
  },
  "kernelspec": {
   "display_name": "Python 3 (ipykernel)",
   "language": "python",
   "name": "python3"
  },
  "language_info": {
   "codemirror_mode": {
    "name": "ipython",
    "version": 3
   },
   "file_extension": ".py",
   "mimetype": "text/x-python",
   "name": "python",
   "nbconvert_exporter": "python",
   "pygments_lexer": "ipython3",
   "version": "3.9.7"
  }
 },
 "nbformat": 4,
 "nbformat_minor": 1
}
